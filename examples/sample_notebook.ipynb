{
 "cells": [
  {
   "cell_type": "markdown",
   "id": "7ea56632",
   "metadata": {},
   "source": [
    "# Dataset Creator Example Notebook\n",
    "\n",
    "This notebook demonstrates how to use the Dataset Creator library to create datasets from GitHub repositories."
   ]
  },
  {
   "cell_type": "code",
   "execution_count": null,
   "id": "ca1e0f96",
   "metadata": {},
   "outputs": [],
   "source": [
    "# Import required libraries\n",
    "import json\n",
    "import os\n",
    "from pathlib import Path\n",
    "\n",
    "# Import dataset tools\n",
    "from config.credentials_manager import CredentialsManager\n",
    "from github.client import GitHubClient\n",
    "from huggingface.dataset_creator import DatasetCreator"
   ]
  },
  {
   "cell_type": "markdown",
   "id": "a8274664",
   "metadata": {},
   "source": [
    "## Configure credentials\n",
    "\n",
    "First, we need to set up our credentials for GitHub and Hugging Face."
   ]
  },
  {
   "cell_type": "code",
   "execution_count": null,
   "id": "15f3d162",
   "metadata": {},
   "outputs": [],
   "source": [
    "# Initialize credentials manager\n",
    "credentials = CredentialsManager()\n",
    "\n",
    "# Get GitHub credentials\n",
    "github_username, github_token = credentials.get_github_credentials()\n",
    "print(f\"GitHub username: {github_username}\")\n",
    "\n",
    "# Get Hugging Face credentials\n",
    "hf_username, hf_token = credentials.get_huggingface_credentials()\n",
    "print(f\"HuggingFace username: {hf_username}\")"
   ]
  },
  {
   "cell_type": "markdown",
   "id": "131038e8",
   "metadata": {},
   "source": [
    "## Create a dataset\n",
    "\n",
    "Now let's fetch some data and create a dataset."
   ]
  },
  {
   "cell_type": "code",
   "execution_count": null,
   "id": "9c651ecf",
   "metadata": {},
   "outputs": [],
   "source": [
    "# Initialize GitHub client\n",
    "github_client = GitHubClient(token=github_token)\n",
    "\n",
    "# Fetch repository contents\n",
    "repo_owner = \"huggingface\"\n",
    "repo_name = \"datasets\"\n",
    "files = github_client.get_repository_contents(\n",
    "    repo_owner, repo_name, path=\"src/datasets/packaged_modules/csv\"\n",
    ")\n",
    "\n",
    "# Print file information\n",
    "for file in files[:5]:  # Show first 5 files\n",
    "    print(f\"File: {file['name']}\")"
   ]
  },
  {
   "cell_type": "code",
   "execution_count": null,
   "id": "c2a9da50",
   "metadata": {},
   "outputs": [],
   "source": [
    "# Create dataset creator\n",
    "dataset_creator = DatasetCreator()\n",
    "\n",
    "# Create a simple dataset\n",
    "success, dataset = dataset_creator.create_dataset(\n",
    "    file_data_list=files[:5],  # Use first 5 files\n",
    "    dataset_name=\"github_files_sample\",\n",
    "    description=\"A sample dataset created from GitHub files\",\n",
    ")\n",
    "\n",
    "# Display results\n",
    "if success:\n",
    "    print(f\"Successfully created dataset with {len(dataset)} examples\")\n",
    "else:\n",
    "    print(\"Failed to create dataset\")"
   ]
  }
 ],
 "metadata": {
  "language_info": {
   "name": "python"
  }
 },
 "nbformat": 4,
 "nbformat_minor": 5
}
